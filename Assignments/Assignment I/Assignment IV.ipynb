{
 "cells": [
  {
   "cell_type": "code",
   "execution_count": 41,
   "id": "c24bd4bd",
   "metadata": {},
   "outputs": [],
   "source": [
    "import numpy as np\n",
    "import pandas as pd\n",
    "\n",
    "from sklearn.model_selection import train_test_split\n",
    "from sklearn.linear_model import LogisticRegression\n",
    "from sklearn.metrics import accuracy_score\n",
    "from sklearn.feature_extraction import DictVectorizer\n",
    "\n",
    "import matplotlib.pyplot as plt\n",
    "import seaborn as sns\n"
   ]
  },
  {
   "cell_type": "code",
   "execution_count": 16,
   "id": "72300b7e",
   "metadata": {},
   "outputs": [],
   "source": [
    "df = pd.read_csv('carprice.csv')\n",
    "df.columns = df.columns.str.lower().str.replace(' ', '_')\n",
    "\n",
    "categorical_columns = list(df.dtypes[df.dtypes == 'object'].index)\n",
    "\n"
   ]
  },
  {
   "cell_type": "code",
   "execution_count": 17,
   "id": "a82aeee6",
   "metadata": {},
   "outputs": [],
   "source": [
    "for c in categorical_columns:\n",
    "    df[c] = df[c].str.lower().str.replace(' ', '_')\n",
    "\n",
    "df.msrp = pd.to_numeric(df.msrp, errors='coerce')\n",
    "df.msrp = df.msrp.fillna(0)\n",
    "missing = ['engine_hp', 'engine_cylinders', 'market_category', 'number_of_doors','engine_fuel_type']\n",
    "\n",
    "for m in missing:\n",
    "    df[m] = df[m].fillna(0)"
   ]
  },
  {
   "cell_type": "code",
   "execution_count": 19,
   "id": "e2a819ec",
   "metadata": {},
   "outputs": [],
   "source": [
    "mean_price = df['msrp'].mean()\n",
    "df['above_average'] = np.where(df['msrp'] >= mean_price, 1, 0)"
   ]
  },
  {
   "cell_type": "code",
   "execution_count": 21,
   "id": "2ab68449",
   "metadata": {},
   "outputs": [],
   "source": [
    "del df['msrp']"
   ]
  },
  {
   "cell_type": "code",
   "execution_count": 30,
   "id": "2ddf690d",
   "metadata": {},
   "outputs": [
    {
     "data": {
      "text/plain": [
       "11914"
      ]
     },
     "execution_count": 30,
     "metadata": {},
     "output_type": "execute_result"
    }
   ],
   "source": [
    "len(df)"
   ]
  },
  {
   "cell_type": "code",
   "execution_count": 33,
   "id": "68b699d8",
   "metadata": {},
   "outputs": [],
   "source": [
    "df_full_train, df_test = train_test_split(df, test_size= .2, random_state=1)\n",
    "df_train, df_val = train_test_split(df_full_train, test_size= .25, random_state=1)\n",
    "\n",
    "df_train = df_train.reset_index(drop =True)\n",
    "df_val = df_val.reset_index(drop =True)\n",
    "df_test = df_test.reset_index(drop =True)\n",
    "\n",
    "y_train = df_train.above_average.values\n",
    "y_val = df_val.above_average.values\n",
    "y_test = df_test.above_average.values\n",
    "\n",
    "del df_train['above_average']\n",
    "del df_val['above_average']\n",
    "del df_test['above_average']"
   ]
  },
  {
   "cell_type": "code",
   "execution_count": 43,
   "id": "96d7c243",
   "metadata": {},
   "outputs": [],
   "source": [
    "categorical = ['make',\n",
    " 'model',\n",
    " 'engine_fuel_type',\n",
    " 'transmission_type',\n",
    " 'driven_wheels',\n",
    " 'number_of_doors',\n",
    " 'market_category',\n",
    " 'vehicle_size',\n",
    " 'vehicle_style']\n",
    "numerical =['year', 'engine_hp', 'engine_cylinders', 'highway_mpg', 'city_mpg',\n",
    "       'popularity']"
   ]
  },
  {
   "cell_type": "code",
   "execution_count": 48,
   "id": "7da67c2a",
   "metadata": {},
   "outputs": [],
   "source": [
    "from sklearn.metrics import roc_auc_score"
   ]
  },
  {
   "cell_type": "markdown",
   "id": "8dda2d4c",
   "metadata": {},
   "source": [
    "# Question 1: ROC AUC feature importance\n",
    " ROC AUC could also be used to evaluate feature importance of numerical variables.\n",
    "\n",
    " Let's do that\n",
    "\n",
    "- For each numerical variable, use it as score and compute AUC with the above_average variable\n",
    "- Use the training dataset for that\n",
    " If your AUC is < 0.5, invert this variable by putting \"-\" in front\n",
    "\n",
    " (e.g. -df_train['engine_hp'])\n",
    "\n",
    " AUC can go below 0.5 if the variable is negatively correlated with the target varialble. You can change the direction of the correlation by negating this variable - then negative correlation becomes positive.\n",
    "\n",
    "Which numerical variable (among the following 4) has the highest AUC?\n",
    "\n",
    "- engine_hp\n",
    "- engine_cylinders\n",
    "- highway_mpg\n",
    "- city_mpg"
   ]
  },
  {
   "cell_type": "code",
   "execution_count": 51,
   "id": "6919c26a",
   "metadata": {},
   "outputs": [
    {
     "name": "stdout",
     "output_type": "stream",
     "text": [
      "     year, 0.688\n",
      "engine_hp, 0.917\n",
      "engine_cylinders, 0.766\n",
      "highway_mpg, 0.633\n",
      " city_mpg, 0.673\n",
      "popularity, 0.521\n"
     ]
    }
   ],
   "source": [
    "for c in numerical:\n",
    "    auc = roc_auc_score(y_train, df_train[c])\n",
    "    if auc < .5:\n",
    "        auc = roc_auc_score(y_train, -df_train[c])\n",
    "    print('%9s, %.3f' % (c, auc))"
   ]
  },
  {
   "cell_type": "markdown",
   "id": "8b456945",
   "metadata": {},
   "source": [
    "**Answer 1: engine_hp, 0.917**"
   ]
  },
  {
   "cell_type": "markdown",
   "id": "2ddae157",
   "metadata": {},
   "source": [
    "# Question 2: Training the model\n",
    "Apply one-hot-encoding using DictVectorizer and train the logistic regression with these parameters:\n",
    "\n",
    "LogisticRegression(solver='liblinear', C=1.0, max_iter=1000)\n",
    "What's the AUC of this model on the validation dataset? (round to 3 digits)\n",
    "\n",
    "- 0.678\n",
    "- 0.779\n",
    "- 0.878\n",
    "- 0.979"
   ]
  },
  {
   "cell_type": "code",
   "execution_count": 57,
   "id": "9442281e",
   "metadata": {},
   "outputs": [],
   "source": [
    "train_dicts = df_train[categorical+ numerical].to_dict(orient='records')\n",
    "dv = DictVectorizer(sparse = False)\n",
    "X_train = dv.fit_transform(train_dicts)\n",
    "\n",
    "model = LogisticRegression(solver='liblinear', C=1.0, max_iter=1000)\n",
    "model.fit(X_train, y_train)\n",
    "\n",
    "val_dicts = df_val[categorical + numerical].to_dict(orient='records')\n",
    "X_val = dv.transform(val_dicts)\n",
    "\n",
    "y_pred = model.predict_proba(X_val)[:,1]"
   ]
  },
  {
   "cell_type": "code",
   "execution_count": 58,
   "id": "291c51e3",
   "metadata": {},
   "outputs": [
    {
     "data": {
      "text/plain": [
       "0.984"
      ]
     },
     "execution_count": 58,
     "metadata": {},
     "output_type": "execute_result"
    }
   ],
   "source": [
    "roc_auc_score(y_val, y_pred).round(3)"
   ]
  },
  {
   "cell_type": "markdown",
   "id": "2d351202",
   "metadata": {},
   "source": [
    "**Answer 2: ~= .979**"
   ]
  },
  {
   "cell_type": "markdown",
   "id": "d38b5101",
   "metadata": {},
   "source": [
    "# Question 3: Precision and Recall\n",
    "Now let's compute precision and recall for our model.\n",
    "\n",
    "- Evaluate the model on all thresholds from 0.0 to 1.0 with step 0.01\n",
    "- For each threshold, compute precision and recall\n",
    "- Plot them\n",
    "\n",
    "At which threshold precision and recall curves intersect?\n",
    "\n",
    "- 0.28\n",
    "- 0.48\n",
    "- 0.68\n",
    "- 0.88"
   ]
  },
  {
   "cell_type": "code",
   "execution_count": 81,
   "id": "bfba4301",
   "metadata": {},
   "outputs": [],
   "source": [
    "actual_positive = (y_val == 1)\n",
    "actual_negative = (y_val == 0)\n",
    "\n",
    "predict_positive = (y_pred >= t)\n",
    "predict_negative = (y_pred < t)"
   ]
  },
  {
   "cell_type": "code",
   "execution_count": 82,
   "id": "8dc3e9b4",
   "metadata": {},
   "outputs": [],
   "source": [
    "tp = (predict_positive & actual_positive).sum()\n",
    "tn = (predict_negative & actual_negative).sum()\n",
    "\n",
    "fp = (predict_positive & actual_negative).sum()\n",
    "fn = (predict_negative & actual_positive).sum()"
   ]
  },
  {
   "cell_type": "code",
   "execution_count": 83,
   "id": "07b6fe61",
   "metadata": {},
   "outputs": [
    {
     "data": {
      "text/plain": [
       "(1.0, 0.3730886850152905)"
      ]
     },
     "execution_count": 83,
     "metadata": {},
     "output_type": "execute_result"
    }
   ],
   "source": [
    "p = tp / (tp + fp)\n",
    "r = tp / (tp + fn)\n",
    "p, r"
   ]
  },
  {
   "cell_type": "code",
   "execution_count": 84,
   "id": "13000925",
   "metadata": {},
   "outputs": [
    {
     "data": {
      "text/plain": [
       "0.9263830889856965"
      ]
     },
     "execution_count": 84,
     "metadata": {},
     "output_type": "execute_result"
    }
   ],
   "source": [
    "y_pred_bin = model.predict(X_val)\n",
    "roc_auc_score(y_val, y_pred_bin)"
   ]
  },
  {
   "cell_type": "code",
   "execution_count": 85,
   "id": "117d33e0",
   "metadata": {},
   "outputs": [
    {
     "data": {
      "text/html": [
       "<div>\n",
       "<style scoped>\n",
       "    .dataframe tbody tr th:only-of-type {\n",
       "        vertical-align: middle;\n",
       "    }\n",
       "\n",
       "    .dataframe tbody tr th {\n",
       "        vertical-align: top;\n",
       "    }\n",
       "\n",
       "    .dataframe thead th {\n",
       "        text-align: right;\n",
       "    }\n",
       "</style>\n",
       "<table border=\"1\" class=\"dataframe\">\n",
       "  <thead>\n",
       "    <tr style=\"text-align: right;\">\n",
       "      <th></th>\n",
       "      <th>threshold</th>\n",
       "      <th>tp</th>\n",
       "      <th>fp</th>\n",
       "      <th>fn</th>\n",
       "      <th>tn</th>\n",
       "    </tr>\n",
       "  </thead>\n",
       "  <tbody>\n",
       "    <tr>\n",
       "      <th>0</th>\n",
       "      <td>0.0</td>\n",
       "      <td>654</td>\n",
       "      <td>1729</td>\n",
       "      <td>0</td>\n",
       "      <td>0</td>\n",
       "    </tr>\n",
       "    <tr>\n",
       "      <th>10</th>\n",
       "      <td>0.1</td>\n",
       "      <td>640</td>\n",
       "      <td>284</td>\n",
       "      <td>14</td>\n",
       "      <td>1445</td>\n",
       "    </tr>\n",
       "    <tr>\n",
       "      <th>20</th>\n",
       "      <td>0.2</td>\n",
       "      <td>631</td>\n",
       "      <td>194</td>\n",
       "      <td>23</td>\n",
       "      <td>1535</td>\n",
       "    </tr>\n",
       "    <tr>\n",
       "      <th>30</th>\n",
       "      <td>0.3</td>\n",
       "      <td>616</td>\n",
       "      <td>132</td>\n",
       "      <td>38</td>\n",
       "      <td>1597</td>\n",
       "    </tr>\n",
       "    <tr>\n",
       "      <th>40</th>\n",
       "      <td>0.4</td>\n",
       "      <td>597</td>\n",
       "      <td>90</td>\n",
       "      <td>57</td>\n",
       "      <td>1639</td>\n",
       "    </tr>\n",
       "    <tr>\n",
       "      <th>50</th>\n",
       "      <td>0.5</td>\n",
       "      <td>577</td>\n",
       "      <td>51</td>\n",
       "      <td>77</td>\n",
       "      <td>1678</td>\n",
       "    </tr>\n",
       "    <tr>\n",
       "      <th>60</th>\n",
       "      <td>0.6</td>\n",
       "      <td>564</td>\n",
       "      <td>37</td>\n",
       "      <td>90</td>\n",
       "      <td>1692</td>\n",
       "    </tr>\n",
       "    <tr>\n",
       "      <th>70</th>\n",
       "      <td>0.7</td>\n",
       "      <td>538</td>\n",
       "      <td>23</td>\n",
       "      <td>116</td>\n",
       "      <td>1706</td>\n",
       "    </tr>\n",
       "    <tr>\n",
       "      <th>80</th>\n",
       "      <td>0.8</td>\n",
       "      <td>494</td>\n",
       "      <td>13</td>\n",
       "      <td>160</td>\n",
       "      <td>1716</td>\n",
       "    </tr>\n",
       "    <tr>\n",
       "      <th>90</th>\n",
       "      <td>0.9</td>\n",
       "      <td>422</td>\n",
       "      <td>2</td>\n",
       "      <td>232</td>\n",
       "      <td>1727</td>\n",
       "    </tr>\n",
       "  </tbody>\n",
       "</table>\n",
       "</div>"
      ],
      "text/plain": [
       "    threshold   tp    fp   fn    tn\n",
       "0         0.0  654  1729    0     0\n",
       "10        0.1  640   284   14  1445\n",
       "20        0.2  631   194   23  1535\n",
       "30        0.3  616   132   38  1597\n",
       "40        0.4  597    90   57  1639\n",
       "50        0.5  577    51   77  1678\n",
       "60        0.6  564    37   90  1692\n",
       "70        0.7  538    23  116  1706\n",
       "80        0.8  494    13  160  1716\n",
       "90        0.9  422     2  232  1727"
      ]
     },
     "execution_count": 85,
     "metadata": {},
     "output_type": "execute_result"
    }
   ],
   "source": [
    "def confusion_matrix_dataframe(y_val, y_pred):\n",
    "    \n",
    "    thresholds= np.arange(0, 1, 0.01)\n",
    "    scores = []\n",
    "    for t in thresholds:\n",
    "        actual_positive = (y_val == 1)\n",
    "        actual_negative = (y_val == 0)\n",
    "\n",
    "        predict_positive = (y_pred >= t)\n",
    "        predict_negative = (y_pred < t)\n",
    "\n",
    "        tp = (predict_positive & actual_positive).sum()\n",
    "        tn = (predict_negative & actual_negative).sum()\n",
    "\n",
    "        fp = (predict_positive & actual_negative).sum()\n",
    "        fn = (predict_negative & actual_positive).sum()\n",
    "\n",
    "        #p = tp / (tp + fp)\n",
    "        #r = tp / (tp + fn)\n",
    "        scores.append((t, tp ,fp, fn, tn))\n",
    "    columns = ['threshold','tp', 'fp', 'fn', 'tn' ]\n",
    "    df_scores = pd.DataFrame(scores, columns=columns)\n",
    "    \n",
    "    return df_scores\n",
    "\n",
    "df_scores = confusion_matrix_dataframe(y_val, y_pred)\n",
    "df_scores[::10]"
   ]
  },
  {
   "cell_type": "code",
   "execution_count": 87,
   "id": "31185388",
   "metadata": {},
   "outputs": [
    {
     "data": {
      "text/html": [
       "<div>\n",
       "<style scoped>\n",
       "    .dataframe tbody tr th:only-of-type {\n",
       "        vertical-align: middle;\n",
       "    }\n",
       "\n",
       "    .dataframe tbody tr th {\n",
       "        vertical-align: top;\n",
       "    }\n",
       "\n",
       "    .dataframe thead th {\n",
       "        text-align: right;\n",
       "    }\n",
       "</style>\n",
       "<table border=\"1\" class=\"dataframe\">\n",
       "  <thead>\n",
       "    <tr style=\"text-align: right;\">\n",
       "      <th></th>\n",
       "      <th>threshold</th>\n",
       "      <th>tp</th>\n",
       "      <th>fp</th>\n",
       "      <th>fn</th>\n",
       "      <th>tn</th>\n",
       "      <th>p</th>\n",
       "      <th>r</th>\n",
       "    </tr>\n",
       "  </thead>\n",
       "  <tbody>\n",
       "    <tr>\n",
       "      <th>0</th>\n",
       "      <td>0.0</td>\n",
       "      <td>654</td>\n",
       "      <td>1729</td>\n",
       "      <td>0</td>\n",
       "      <td>0</td>\n",
       "      <td>0.274444</td>\n",
       "      <td>1.000000</td>\n",
       "    </tr>\n",
       "    <tr>\n",
       "      <th>10</th>\n",
       "      <td>0.1</td>\n",
       "      <td>640</td>\n",
       "      <td>284</td>\n",
       "      <td>14</td>\n",
       "      <td>1445</td>\n",
       "      <td>0.692641</td>\n",
       "      <td>0.978593</td>\n",
       "    </tr>\n",
       "    <tr>\n",
       "      <th>20</th>\n",
       "      <td>0.2</td>\n",
       "      <td>631</td>\n",
       "      <td>194</td>\n",
       "      <td>23</td>\n",
       "      <td>1535</td>\n",
       "      <td>0.764848</td>\n",
       "      <td>0.964832</td>\n",
       "    </tr>\n",
       "    <tr>\n",
       "      <th>30</th>\n",
       "      <td>0.3</td>\n",
       "      <td>616</td>\n",
       "      <td>132</td>\n",
       "      <td>38</td>\n",
       "      <td>1597</td>\n",
       "      <td>0.823529</td>\n",
       "      <td>0.941896</td>\n",
       "    </tr>\n",
       "    <tr>\n",
       "      <th>40</th>\n",
       "      <td>0.4</td>\n",
       "      <td>597</td>\n",
       "      <td>90</td>\n",
       "      <td>57</td>\n",
       "      <td>1639</td>\n",
       "      <td>0.868996</td>\n",
       "      <td>0.912844</td>\n",
       "    </tr>\n",
       "    <tr>\n",
       "      <th>50</th>\n",
       "      <td>0.5</td>\n",
       "      <td>577</td>\n",
       "      <td>51</td>\n",
       "      <td>77</td>\n",
       "      <td>1678</td>\n",
       "      <td>0.918790</td>\n",
       "      <td>0.882263</td>\n",
       "    </tr>\n",
       "    <tr>\n",
       "      <th>60</th>\n",
       "      <td>0.6</td>\n",
       "      <td>564</td>\n",
       "      <td>37</td>\n",
       "      <td>90</td>\n",
       "      <td>1692</td>\n",
       "      <td>0.938436</td>\n",
       "      <td>0.862385</td>\n",
       "    </tr>\n",
       "    <tr>\n",
       "      <th>70</th>\n",
       "      <td>0.7</td>\n",
       "      <td>538</td>\n",
       "      <td>23</td>\n",
       "      <td>116</td>\n",
       "      <td>1706</td>\n",
       "      <td>0.959002</td>\n",
       "      <td>0.822630</td>\n",
       "    </tr>\n",
       "    <tr>\n",
       "      <th>80</th>\n",
       "      <td>0.8</td>\n",
       "      <td>494</td>\n",
       "      <td>13</td>\n",
       "      <td>160</td>\n",
       "      <td>1716</td>\n",
       "      <td>0.974359</td>\n",
       "      <td>0.755352</td>\n",
       "    </tr>\n",
       "    <tr>\n",
       "      <th>90</th>\n",
       "      <td>0.9</td>\n",
       "      <td>422</td>\n",
       "      <td>2</td>\n",
       "      <td>232</td>\n",
       "      <td>1727</td>\n",
       "      <td>0.995283</td>\n",
       "      <td>0.645260</td>\n",
       "    </tr>\n",
       "  </tbody>\n",
       "</table>\n",
       "</div>"
      ],
      "text/plain": [
       "    threshold   tp    fp   fn    tn         p         r\n",
       "0         0.0  654  1729    0     0  0.274444  1.000000\n",
       "10        0.1  640   284   14  1445  0.692641  0.978593\n",
       "20        0.2  631   194   23  1535  0.764848  0.964832\n",
       "30        0.3  616   132   38  1597  0.823529  0.941896\n",
       "40        0.4  597    90   57  1639  0.868996  0.912844\n",
       "50        0.5  577    51   77  1678  0.918790  0.882263\n",
       "60        0.6  564    37   90  1692  0.938436  0.862385\n",
       "70        0.7  538    23  116  1706  0.959002  0.822630\n",
       "80        0.8  494    13  160  1716  0.974359  0.755352\n",
       "90        0.9  422     2  232  1727  0.995283  0.645260"
      ]
     },
     "execution_count": 87,
     "metadata": {},
     "output_type": "execute_result"
    }
   ],
   "source": [
    "df_scores['p'] = df_scores.tp / (df_scores.tp +df_scores.fp)\n",
    "df_scores['r'] = df_scores.tp / (df_scores.tp +df_scores.fn)\n",
    "df_scores[::10]"
   ]
  },
  {
   "cell_type": "code",
   "execution_count": 135,
   "id": "9356a3ba",
   "metadata": {},
   "outputs": [
    {
     "data": {
      "image/png": "[encoded data removed]",
      "text/plain": [
       "<Figure size 640x480 with 1 Axes>"
      ]
     },
     "metadata": {},
     "output_type": "display_data"
    }
   ],
   "source": [
    "plt.plot(df_scores.threshold, df_scores.p, label='precision')\n",
    "plt.plot(df_scores.threshold, df_scores.r, label='recall')\n",
    "\n",
    "\n",
    "\n",
    "plt.legend()\n",
    "plt.show()\n",
    "     "
   ]
  },
  {
   "cell_type": "code",
   "execution_count": 132,
   "id": "fc56aad5",
   "metadata": {},
   "outputs": [],
   "source": [
    "df_scores['diff'] = abs(df_scores['p'] - df_scores['r'])\n",
    "intersection_thresholds = df_scores[df_scores['diff'] == df_scores['diff'].min()]['threshold']"
   ]
  },
  {
   "cell_type": "code",
   "execution_count": 133,
   "id": "721ed74a",
   "metadata": {
    "scrolled": true
   },
   "outputs": [],
   "source": [
    "intersection_thresholds = df_scores[df_scores['diff'] == df_scores['diff'].min()]['threshold']"
   ]
  },
  {
   "cell_type": "code",
   "execution_count": 134,
   "id": "a0801f14",
   "metadata": {},
   "outputs": [
    {
     "data": {
      "image/png": "[encoded data removed]",
      "text/plain": [
       "<Figure size 640x480 with 1 Axes>"
      ]
     },
     "metadata": {},
     "output_type": "display_data"
    }
   ],
   "source": [
    "# Plot vertical lines at the intersection threshold(s)\n",
    "for threshold in intersection_thresholds:\n",
    "    plt.axvline(x=threshold, color='red', linestyle='--', label=f'Intersection at {threshold:.2f}')"
   ]
  },
  {
   "cell_type": "markdown",
   "id": "28bd5f1e",
   "metadata": {},
   "source": [
    "**Answer 3 : 0.48**"
   ]
  },
  {
   "cell_type": "markdown",
   "id": "d2e08a60",
   "metadata": {},
   "source": [
    "# Question 4\n",
    "Precision and recall are conflicting - when one grows, the other goes down. That's why they are often combined into the F1 score - a metrics that takes into account both\n",
    "\n",
    "This is the formula for computing F1:\n",
    "\n",
    "F1 = 2 * P * R / (P + R)\n",
    "\n",
    "Where P is precision and R is recall.\n",
    "\n",
    "Let's compute F1 for all thresholds from 0.0 to 1.0 with increment 0.01\n",
    "\n",
    "At which threshold F1 is maximal?\n",
    "\n",
    "- 0.1\n",
    "- 0.3\n",
    "- 0.5\n",
    "- 0.7"
   ]
  },
  {
   "cell_type": "code",
   "execution_count": 88,
   "id": "da3e5678",
   "metadata": {},
   "outputs": [],
   "source": [
    "df_scores['f1'] = 2 * df_scores['p'] * df_scores['r'] / df_scores['p'] + df_scores['r']"
   ]
  },
  {
   "cell_type": "code",
   "execution_count": 97,
   "id": "65e14cf0",
   "metadata": {},
   "outputs": [
    {
     "data": {
      "image/png": "[encoded data removed]",
      "text/plain": [
       "<Figure size 640x480 with 1 Axes>"
      ]
     },
     "metadata": {},
     "output_type": "display_data"
    }
   ],
   "source": [
    "plt.plot(df_scores.threshold, df_scores.f1)\n",
    "plt.xticks(np.arange(0, 1, 0.01))\n",
    "plt.show()"
   ]
  },
  {
   "cell_type": "code",
   "execution_count": 125,
   "id": "68aa69f3",
   "metadata": {},
   "outputs": [
    {
     "data": {
      "text/html": [
       "<div>\n",
       "<style scoped>\n",
       "    .dataframe tbody tr th:only-of-type {\n",
       "        vertical-align: middle;\n",
       "    }\n",
       "\n",
       "    .dataframe tbody tr th {\n",
       "        vertical-align: top;\n",
       "    }\n",
       "\n",
       "    .dataframe thead th {\n",
       "        text-align: right;\n",
       "    }\n",
       "</style>\n",
       "<table border=\"1\" class=\"dataframe\">\n",
       "  <thead>\n",
       "    <tr style=\"text-align: right;\">\n",
       "      <th></th>\n",
       "      <th>threshold</th>\n",
       "      <th>f1</th>\n",
       "    </tr>\n",
       "  </thead>\n",
       "  <tbody>\n",
       "    <tr>\n",
       "      <th>12</th>\n",
       "      <td>0.12</td>\n",
       "      <td>2.931193</td>\n",
       "    </tr>\n",
       "    <tr>\n",
       "      <th>13</th>\n",
       "      <td>0.13</td>\n",
       "      <td>2.931193</td>\n",
       "    </tr>\n",
       "    <tr>\n",
       "      <th>14</th>\n",
       "      <td>0.14</td>\n",
       "      <td>2.926606</td>\n",
       "    </tr>\n",
       "    <tr>\n",
       "      <th>15</th>\n",
       "      <td>0.15</td>\n",
       "      <td>2.926606</td>\n",
       "    </tr>\n",
       "    <tr>\n",
       "      <th>16</th>\n",
       "      <td>0.16</td>\n",
       "      <td>2.922018</td>\n",
       "    </tr>\n",
       "    <tr>\n",
       "      <th>17</th>\n",
       "      <td>0.17</td>\n",
       "      <td>2.917431</td>\n",
       "    </tr>\n",
       "    <tr>\n",
       "      <th>18</th>\n",
       "      <td>0.18</td>\n",
       "      <td>2.912844</td>\n",
       "    </tr>\n",
       "    <tr>\n",
       "      <th>19</th>\n",
       "      <td>0.19</td>\n",
       "      <td>2.894495</td>\n",
       "    </tr>\n",
       "    <tr>\n",
       "      <th>20</th>\n",
       "      <td>0.20</td>\n",
       "      <td>2.894495</td>\n",
       "    </tr>\n",
       "    <tr>\n",
       "      <th>21</th>\n",
       "      <td>0.21</td>\n",
       "      <td>2.880734</td>\n",
       "    </tr>\n",
       "    <tr>\n",
       "      <th>22</th>\n",
       "      <td>0.22</td>\n",
       "      <td>2.876147</td>\n",
       "    </tr>\n",
       "    <tr>\n",
       "      <th>23</th>\n",
       "      <td>0.23</td>\n",
       "      <td>2.871560</td>\n",
       "    </tr>\n",
       "    <tr>\n",
       "      <th>24</th>\n",
       "      <td>0.24</td>\n",
       "      <td>2.853211</td>\n",
       "    </tr>\n",
       "    <tr>\n",
       "      <th>25</th>\n",
       "      <td>0.25</td>\n",
       "      <td>2.839450</td>\n",
       "    </tr>\n",
       "    <tr>\n",
       "      <th>26</th>\n",
       "      <td>0.26</td>\n",
       "      <td>2.839450</td>\n",
       "    </tr>\n",
       "    <tr>\n",
       "      <th>27</th>\n",
       "      <td>0.27</td>\n",
       "      <td>2.834862</td>\n",
       "    </tr>\n",
       "    <tr>\n",
       "      <th>28</th>\n",
       "      <td>0.28</td>\n",
       "      <td>2.830275</td>\n",
       "    </tr>\n",
       "    <tr>\n",
       "      <th>29</th>\n",
       "      <td>0.29</td>\n",
       "      <td>2.825688</td>\n",
       "    </tr>\n",
       "    <tr>\n",
       "      <th>30</th>\n",
       "      <td>0.30</td>\n",
       "      <td>2.825688</td>\n",
       "    </tr>\n",
       "    <tr>\n",
       "      <th>31</th>\n",
       "      <td>0.31</td>\n",
       "      <td>2.821101</td>\n",
       "    </tr>\n",
       "    <tr>\n",
       "      <th>32</th>\n",
       "      <td>0.32</td>\n",
       "      <td>2.811927</td>\n",
       "    </tr>\n",
       "  </tbody>\n",
       "</table>\n",
       "</div>"
      ],
      "text/plain": [
       "    threshold        f1\n",
       "12       0.12  2.931193\n",
       "13       0.13  2.931193\n",
       "14       0.14  2.926606\n",
       "15       0.15  2.926606\n",
       "16       0.16  2.922018\n",
       "17       0.17  2.917431\n",
       "18       0.18  2.912844\n",
       "19       0.19  2.894495\n",
       "20       0.20  2.894495\n",
       "21       0.21  2.880734\n",
       "22       0.22  2.876147\n",
       "23       0.23  2.871560\n",
       "24       0.24  2.853211\n",
       "25       0.25  2.839450\n",
       "26       0.26  2.839450\n",
       "27       0.27  2.834862\n",
       "28       0.28  2.830275\n",
       "29       0.29  2.825688\n",
       "30       0.30  2.825688\n",
       "31       0.31  2.821101\n",
       "32       0.32  2.811927"
      ]
     },
     "execution_count": 125,
     "metadata": {},
     "output_type": "execute_result"
    }
   ],
   "source": [
    "df_scores[['threshold','f1']][:13],\n",
    "df_scores[['threshold','f1']][12:33]"
   ]
  },
  {
   "cell_type": "markdown",
   "id": "7a7b5bdc",
   "metadata": {},
   "source": [
    "**Answer 4 : 0.12**"
   ]
  },
  {
   "cell_type": "code",
   "execution_count": 106,
   "id": "10507b67",
   "metadata": {},
   "outputs": [],
   "source": [
    "def train (df_train, y_train, C=1.0):\n",
    "    \n",
    "    dicts = df_train[categorical + numerical].to_dict(orient='records')\n",
    "    \n",
    "    dv = DictVectorizer(sparse=False)\n",
    "    X_train = dv.fit_transform(dicts)\n",
    "    \n",
    "    model = LogisticRegression(solver='liblinear', C=1.0, max_iter=1000)\n",
    "    model.fit(X_train, y_train)\n",
    "    \n",
    "    return dv ,model\n",
    "\n",
    "def predict(df, dv, model):\n",
    "    dicts = df[categorical + numerical].to_dict(orient= 'records')\n",
    "    \n",
    "    X = dv.transform(dicts)\n",
    "    y_pred = model.predict_proba(X) [:,1]\n",
    "    \n",
    "    return y_pred"
   ]
  },
  {
   "cell_type": "code",
   "execution_count": 107,
   "id": "5d776db5",
   "metadata": {},
   "outputs": [],
   "source": [
    "from sklearn.model_selection import KFold"
   ]
  },
  {
   "cell_type": "code",
   "execution_count": 115,
   "id": "b1a2b01a",
   "metadata": {},
   "outputs": [
    {
     "name": "stdout",
     "output_type": "stream",
     "text": [
      "0.980 +- 0.003\n"
     ]
    }
   ],
   "source": [
    "scores = []\n",
    "\n",
    "kfold = KFold(n_splits=5, shuffle= True, random_state=1)\n",
    "\n",
    "for train_idx, val_idx in kfold.split(df_full_train):\n",
    "    df_train = df_full_train.iloc[train_idx]\n",
    "    df_val = df_full_train.iloc[val_idx]\n",
    "    \n",
    "    y_train = df_train.above_average\n",
    "    y_val = df_val.above_average\n",
    "    \n",
    "    dv, model = train(df_train, y_train, C=1.0)\n",
    "    y_pred = predict(df_val, dv, model)\n",
    "    \n",
    "    auc = roc_auc_score(y_val, y_pred)\n",
    "    scores.append(auc)\n",
    "print('%.3f +- %.3f' % ( np.mean(scores), np.std(scores)))"
   ]
  },
  {
   "cell_type": "markdown",
   "id": "fcdb49fd",
   "metadata": {},
   "source": [
    "**Answer 5 : 0.003**"
   ]
  },
  {
   "cell_type": "markdown",
   "id": "630617c1",
   "metadata": {},
   "source": [
    "# Question 6: Hyperparemeter Tuning\n",
    "Now let's use 5-Fold cross-validation to find the best parameter C\n",
    "\n",
    "- Iterate over the following C values: [0.01, 0.1, 0.5, 10]\n",
    "- Initialize KFold with the same parameters as previously\n",
    "- Use these parametes for the model: LogisticRegression(solver='liblinear', C=C, max_iter=1000)\n",
    "- Compute the mean score as well as the std (round the mean and std to 3 decimal digits)\n",
    "Which C leads to the best mean score?\n",
    "\n",
    "- 0.01\n",
    "- 0.1\n",
    "- 0.5\n",
    "- 10\n",
    "\n",
    "If you have ties, select the score with the lowest std. If you still have ties, select the smallest C."
   ]
  },
  {
   "cell_type": "code",
   "execution_count": 127,
   "id": "e564d5d4",
   "metadata": {},
   "outputs": [
    {
     "name": "stdout",
     "output_type": "stream",
     "text": [
      "C=0.01, 0.980 +- 0.003\n",
      "C= 0.1, 0.980 +- 0.003\n",
      "C= 0.5, 0.980 +- 0.003\n",
      "C=  10, 0.980 +- 0.003\n"
     ]
    }
   ],
   "source": [
    "kfold = KFold(n_splits=5, shuffle= True, random_state=1)\n",
    "\n",
    "for C in [0.01, 0.1, 0.5, 10]:\n",
    "    scores = []\n",
    "    \n",
    "    for train_idx, val_idx in kfold.split(df_full_train):\n",
    "        df_train = df_full_train.iloc[train_idx]\n",
    "        df_val = df_full_train.iloc[val_idx]\n",
    "\n",
    "        y_train = df_train.above_average\n",
    "        y_val = df_val.above_average\n",
    "\n",
    "        dv, model = train(df_train, y_train, C=C)\n",
    "        y_pred = predict(df_val, dv, model)\n",
    "\n",
    "        auc = roc_auc_score(y_val, y_pred)\n",
    "        scores.append(auc)\n",
    "\n",
    "    print('C=%4s, %.3f +- %.3f' % (C, np.mean(scores), np.std(scores)))"
   ]
  },
  {
   "cell_type": "markdown",
   "id": "32169398",
   "metadata": {},
   "source": [
    "**Answer 6: 0.01**"
   ]
  },
  {
   "cell_type": "code",
   "execution_count": null,
   "id": "79a6dce6",
   "metadata": {},
   "outputs": [],
   "source": []
  }
 ],
 "metadata": {
  "kernelspec": {
   "display_name": "Python 3 (ipykernel)",
   "language": "python",
   "name": "python3"
  },
  "language_info": {
   "codemirror_mode": {
    "name": "ipython",
    "version": 3
   },
   "file_extension": ".py",
   "mimetype": "text/x-python",
   "name": "python",
   "nbconvert_exporter": "python",
   "pygments_lexer": "ipython3",
   "version": "3.9.13"
  }
 },
 "nbformat": 4,
 "nbformat_minor": 5
}
